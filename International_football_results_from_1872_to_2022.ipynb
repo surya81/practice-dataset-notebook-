{
  "nbformat": 4,
  "nbformat_minor": 0,
  "metadata": {
    "colab": {
      "provenance": [],
      "authorship_tag": "ABX9TyM5efIU8q0wBN28BIjChCcK",
      "include_colab_link": true
    },
    "kernelspec": {
      "name": "python3",
      "display_name": "Python 3"
    },
    "language_info": {
      "name": "python"
    }
  },
  "cells": [
    {
      "cell_type": "markdown",
      "metadata": {
        "id": "view-in-github",
        "colab_type": "text"
      },
      "source": [
        "<a href=\"https://colab.research.google.com/github/surya81/practice-dataset-notebook-/blob/main/International_football_results_from_1872_to_2022.ipynb\" target=\"_parent\"><img src=\"https://colab.research.google.com/assets/colab-badge.svg\" alt=\"Open In Colab\"/></a>"
      ]
    },
    {
      "cell_type": "code",
      "execution_count": 1,
      "metadata": {
        "id": "osR73UNzbyBq"
      },
      "outputs": [],
      "source": [
        "! mkdir ~/.kaggle"
      ]
    },
    {
      "cell_type": "code",
      "source": [
        "! cp kaggle.json ~/.kaggle/"
      ],
      "metadata": {
        "id": "hRio772WcDKp"
      },
      "execution_count": 2,
      "outputs": []
    },
    {
      "cell_type": "code",
      "source": [
        "! chmod 600 ~/.kaggle/kaggle.json"
      ],
      "metadata": {
        "id": "hCX4XQvlcodq"
      },
      "execution_count": 3,
      "outputs": []
    },
    {
      "cell_type": "code",
      "source": [
        "!kaggle datasets download -d martj42/international-football-results-from-1872-to-2017"
      ],
      "metadata": {
        "colab": {
          "base_uri": "https://localhost:8080/"
        },
        "id": "8p8GyAAtcuFe",
        "outputId": "2752f772-2f73-4d91-d3bf-ce9b8c5e0061"
      },
      "execution_count": 4,
      "outputs": [
        {
          "output_type": "stream",
          "name": "stdout",
          "text": [
            "Downloading international-football-results-from-1872-to-2017.zip to /content\n",
            "\r  0% 0.00/1.06M [00:00<?, ?B/s]\n",
            "\r100% 1.06M/1.06M [00:00<00:00, 102MB/s]\n"
          ]
        }
      ]
    },
    {
      "cell_type": "code",
      "source": [
        "#kaggle datasets download -d thedevastator/global-fossil-co2-emissions-by-country-2002-2022\n",
        "#Emissions by Country, 2002-2022"
      ],
      "metadata": {
        "id": "6EKzlXk4c0T-"
      },
      "execution_count": 5,
      "outputs": []
    }
  ]
}
{
  "nbformat": 4,
  "nbformat_minor": 0,
  "metadata": {
    "colab": {
      "provenance": [],
      "authorship_tag": "ABX9TyNZ+SOkbQA78wq6YRweb4/k",
      "include_colab_link": true
    },
    "kernelspec": {
      "name": "python3",
      "display_name": "Python 3"
    },
    "language_info": {
      "name": "python"
    }
  },
  "cells": [
    {
      "cell_type": "markdown",
      "metadata": {
        "id": "view-in-github",
        "colab_type": "text"
      },
      "source": [
        "<a href=\"https://colab.research.google.com/github/surya81/practice-dataset-notebook-/blob/main/ecommerce_dataset_for_predictive_marketing_2023.ipynb\" target=\"_parent\"><img src=\"https://colab.research.google.com/assets/colab-badge.svg\" alt=\"Open In Colab\"/></a>"
      ]
    },
    {
      "cell_type": "markdown",
      "source": [
        "#ECommerce_consumer behaviour"
      ],
      "metadata": {
        "id": "MmIp-5BaO2Kp"
      }
    },
    {
      "cell_type": "markdown",
      "source": [
        "## Prequesite\n",
        "<b> Download datasets from kaggle using kaggle Api \n",
        "</b>"
      ],
      "metadata": {
        "id": "0hFQhq-cPAbW"
      }
    },
    {
      "cell_type": "code",
      "source": [
        "! mkdir ~/.kaggle"
      ],
      "metadata": {
        "colab": {
          "base_uri": "https://localhost:8080/"
        },
        "id": "h_ibqxqU5VOF",
        "outputId": "b61caa59-113c-4c0f-e173-7da23cc89553"
      },
      "execution_count": 8,
      "outputs": [
        {
          "output_type": "stream",
          "name": "stdout",
          "text": [
            "mkdir: cannot create directory ‘/root/.kaggle’: File exists\n"
          ]
        }
      ]
    },
    {
      "cell_type": "code",
      "source": [
        "! cp kaggle.json ~/.kaggle/"
      ],
      "metadata": {
        "id": "BCumiuUT5dod"
      },
      "execution_count": 9,
      "outputs": []
    },
    {
      "cell_type": "code",
      "source": [
        "! chmod 600 ~/.kaggle/kaggle.json"
      ],
      "metadata": {
        "id": "Q7h_-LnFLNi-"
      },
      "execution_count": 10,
      "outputs": []
    },
    {
      "cell_type": "code",
      "source": [
        "! kaggle datasets download -d hunter0007/ecommerce-dataset-for-predictive-marketing-2023"
      ],
      "metadata": {
        "colab": {
          "base_uri": "https://localhost:8080/"
        },
        "id": "9EcwNH3W5vGr",
        "outputId": "5c82326e-d01f-477e-c6aa-830dcb598c68"
      },
      "execution_count": 11,
      "outputs": [
        {
          "output_type": "stream",
          "name": "stdout",
          "text": [
            "Downloading ecommerce-dataset-for-predictive-marketing-2023.zip to /content\n",
            "\r  0% 0.00/15.2M [00:00<?, ?B/s]\r 33% 5.00M/15.2M [00:00<00:00, 36.2MB/s]\n",
            "\r100% 15.2M/15.2M [00:00<00:00, 87.5MB/s]\n"
          ]
        }
      ]
    },
    {
      "cell_type": "code",
      "source": [
        "! unzip  /content/ecommerce-dataset-for-predictive-marketing-2023.zip"
      ],
      "metadata": {
        "colab": {
          "base_uri": "https://localhost:8080/"
        },
        "id": "ZUCmM9ii-pSz",
        "outputId": "cf51585d-7b58-4260-9d20-dd4bf538eec3"
      },
      "execution_count": 12,
      "outputs": [
        {
          "output_type": "stream",
          "name": "stdout",
          "text": [
            "Archive:  /content/ecommerce-dataset-for-predictive-marketing-2023.zip\n",
            "  inflating: ECommerce_consumer behaviour.csv  \n"
          ]
        }
      ]
    },
    {
      "cell_type": "markdown",
      "source": [
        "## Introduction \n",
        "**The dataset consists of over 2 million purchase records at a renowned Hunter's supermarket**\n",
        "\n",
        "Supermarket consumer behaviour dataset consists of 2019501 Rows & 12 Columns :\n",
        "\n",
        "1. order_id – (A unique number to identity the order)\n",
        "\n",
        "2. user_id - (A unique number to identify the user)\n",
        "\n",
        "3. order_number – (Number of the order)\n",
        "\n",
        "4. order_dow – (Day of the Week the order was made)\n",
        "5. orderhourof_day – (Time of the order)\n",
        "6. dayssinceprior_order - (History of the order)\n",
        "7. product_id – (Id of the product)\n",
        "8. addtocart_order – (Number of items added to cart)\n",
        "9. reordered – (If the reorder took place)\n",
        "10. department_id - (Unique number allocated to each department)\n",
        "11. department – (Names of the departments)\n",
        "12. product_name – (Name of the products)"
      ],
      "metadata": {
        "id": "FOIpURujPezY"
      }
    },
    {
      "cell_type": "markdown",
      "source": [
        "## Libraries \n"
      ],
      "metadata": {
        "id": "MF9p8KGFRO7T"
      }
    },
    {
      "cell_type": "markdown",
      "source": [
        "`pandas` *for reading dataset*\n",
        "\n",
        "`KNNImputer` *for imputing missing value*"
      ],
      "metadata": {
        "id": "__niRPDeRZqE"
      }
    },
    {
      "cell_type": "code",
      "source": [
        "import pandas as pd \n",
        "import numpy as np\n",
        "from sklearn.model_selection import train_test_split \n",
        "import seaborn as sns \n",
        "import matplotlib.pyplot as plt\n",
        "from sklearn.experimental import enable_iterative_imputer\n",
        "from sklearn.impute import IterativeImputer\n"
      ],
      "metadata": {
        "id": "XQVl_FKhRN7d"
      },
      "execution_count": 44,
      "outputs": []
    },
    {
      "cell_type": "markdown",
      "source": [
        "***Dataset loading***"
      ],
      "metadata": {
        "id": "4QM4tTg7SlDy"
      }
    },
    {
      "cell_type": "code",
      "source": [
        "df = pd.read_csv(\"/content/ECommerce_consumer behaviour.csv\")"
      ],
      "metadata": {
        "id": "IfSTi4y_ApXl"
      },
      "execution_count": 14,
      "outputs": []
    },
    {
      "cell_type": "code",
      "source": [
        "df"
      ],
      "metadata": {
        "colab": {
          "base_uri": "https://localhost:8080/",
          "height": 678
        },
        "id": "i02v30pFA6gP",
        "outputId": "cbbc9496-96c9-44f5-c54c-0cfebb15416c"
      },
      "execution_count": 15,
      "outputs": [
        {
          "output_type": "execute_result",
          "data": {
            "text/plain": [
              "         order_id  user_id  order_number  order_dow  order_hour_of_day  \\\n",
              "0         2425083    49125             1          2                 18   \n",
              "1         2425083    49125             1          2                 18   \n",
              "2         2425083    49125             1          2                 18   \n",
              "3         2425083    49125             1          2                 18   \n",
              "4         2425083    49125             1          2                 18   \n",
              "...           ...      ...           ...        ...                ...   \n",
              "2019496   3390742   199430            16          3                 18   \n",
              "2019497    458285   128787            42          2                 19   \n",
              "2019498    458285   128787            42          2                 19   \n",
              "2019499    458285   128787            42          2                 19   \n",
              "2019500    458285   128787            42          2                 19   \n",
              "\n",
              "         days_since_prior_order  product_id  add_to_cart_order  reordered  \\\n",
              "0                           NaN          17                  1          0   \n",
              "1                           NaN          91                  2          0   \n",
              "2                           NaN          36                  3          0   \n",
              "3                           NaN          83                  4          0   \n",
              "4                           NaN          83                  5          0   \n",
              "...                         ...         ...                ...        ...   \n",
              "2019496                     5.0          83                  8          0   \n",
              "2019497                     3.0         115                  1          1   \n",
              "2019498                     3.0          32                  2          1   \n",
              "2019499                     3.0          32                  3          1   \n",
              "2019500                     3.0         123                  4          1   \n",
              "\n",
              "         department_id  department                   product_name  \n",
              "0                   13      pantry             baking ingredients  \n",
              "1                   16  dairy eggs                soy lactosefree  \n",
              "2                   16  dairy eggs                         butter  \n",
              "3                    4     produce               fresh vegetables  \n",
              "4                    4     produce               fresh vegetables  \n",
              "...                ...         ...                            ...  \n",
              "2019496              4     produce               fresh vegetables  \n",
              "2019497              7   beverages  water seltzer sparkling water  \n",
              "2019498              4     produce               packaged produce  \n",
              "2019499              4     produce               packaged produce  \n",
              "2019500              4     produce     packaged vegetables fruits  \n",
              "\n",
              "[2019501 rows x 12 columns]"
            ],
            "text/html": [
              "\n",
              "  <div id=\"df-e0ea95fc-9cab-4365-be7b-792aaba63aa5\">\n",
              "    <div class=\"colab-df-container\">\n",
              "      <div>\n",
              "<style scoped>\n",
              "    .dataframe tbody tr th:only-of-type {\n",
              "        vertical-align: middle;\n",
              "    }\n",
              "\n",
              "    .dataframe tbody tr th {\n",
              "        vertical-align: top;\n",
              "    }\n",
              "\n",
              "    .dataframe thead th {\n",
              "        text-align: right;\n",
              "    }\n",
              "</style>\n",
              "<table border=\"1\" class=\"dataframe\">\n",
              "  <thead>\n",
              "    <tr style=\"text-align: right;\">\n",
              "      <th></th>\n",
              "      <th>order_id</th>\n",
              "      <th>user_id</th>\n",
              "      <th>order_number</th>\n",
              "      <th>order_dow</th>\n",
              "      <th>order_hour_of_day</th>\n",
              "      <th>days_since_prior_order</th>\n",
              "      <th>product_id</th>\n",
              "      <th>add_to_cart_order</th>\n",
              "      <th>reordered</th>\n",
              "      <th>department_id</th>\n",
              "      <th>department</th>\n",
              "      <th>product_name</th>\n",
              "    </tr>\n",
              "  </thead>\n",
              "  <tbody>\n",
              "    <tr>\n",
              "      <th>0</th>\n",
              "      <td>2425083</td>\n",
              "      <td>49125</td>\n",
              "      <td>1</td>\n",
              "      <td>2</td>\n",
              "      <td>18</td>\n",
              "      <td>NaN</td>\n",
              "      <td>17</td>\n",
              "      <td>1</td>\n",
              "      <td>0</td>\n",
              "      <td>13</td>\n",
              "      <td>pantry</td>\n",
              "      <td>baking ingredients</td>\n",
              "    </tr>\n",
              "    <tr>\n",
              "      <th>1</th>\n",
              "      <td>2425083</td>\n",
              "      <td>49125</td>\n",
              "      <td>1</td>\n",
              "      <td>2</td>\n",
              "      <td>18</td>\n",
              "      <td>NaN</td>\n",
              "      <td>91</td>\n",
              "      <td>2</td>\n",
              "      <td>0</td>\n",
              "      <td>16</td>\n",
              "      <td>dairy eggs</td>\n",
              "      <td>soy lactosefree</td>\n",
              "    </tr>\n",
              "    <tr>\n",
              "      <th>2</th>\n",
              "      <td>2425083</td>\n",
              "      <td>49125</td>\n",
              "      <td>1</td>\n",
              "      <td>2</td>\n",
              "      <td>18</td>\n",
              "      <td>NaN</td>\n",
              "      <td>36</td>\n",
              "      <td>3</td>\n",
              "      <td>0</td>\n",
              "      <td>16</td>\n",
              "      <td>dairy eggs</td>\n",
              "      <td>butter</td>\n",
              "    </tr>\n",
              "    <tr>\n",
              "      <th>3</th>\n",
              "      <td>2425083</td>\n",
              "      <td>49125</td>\n",
              "      <td>1</td>\n",
              "      <td>2</td>\n",
              "      <td>18</td>\n",
              "      <td>NaN</td>\n",
              "      <td>83</td>\n",
              "      <td>4</td>\n",
              "      <td>0</td>\n",
              "      <td>4</td>\n",
              "      <td>produce</td>\n",
              "      <td>fresh vegetables</td>\n",
              "    </tr>\n",
              "    <tr>\n",
              "      <th>4</th>\n",
              "      <td>2425083</td>\n",
              "      <td>49125</td>\n",
              "      <td>1</td>\n",
              "      <td>2</td>\n",
              "      <td>18</td>\n",
              "      <td>NaN</td>\n",
              "      <td>83</td>\n",
              "      <td>5</td>\n",
              "      <td>0</td>\n",
              "      <td>4</td>\n",
              "      <td>produce</td>\n",
              "      <td>fresh vegetables</td>\n",
              "    </tr>\n",
              "    <tr>\n",
              "      <th>...</th>\n",
              "      <td>...</td>\n",
              "      <td>...</td>\n",
              "      <td>...</td>\n",
              "      <td>...</td>\n",
              "      <td>...</td>\n",
              "      <td>...</td>\n",
              "      <td>...</td>\n",
              "      <td>...</td>\n",
              "      <td>...</td>\n",
              "      <td>...</td>\n",
              "      <td>...</td>\n",
              "      <td>...</td>\n",
              "    </tr>\n",
              "    <tr>\n",
              "      <th>2019496</th>\n",
              "      <td>3390742</td>\n",
              "      <td>199430</td>\n",
              "      <td>16</td>\n",
              "      <td>3</td>\n",
              "      <td>18</td>\n",
              "      <td>5.0</td>\n",
              "      <td>83</td>\n",
              "      <td>8</td>\n",
              "      <td>0</td>\n",
              "      <td>4</td>\n",
              "      <td>produce</td>\n",
              "      <td>fresh vegetables</td>\n",
              "    </tr>\n",
              "    <tr>\n",
              "      <th>2019497</th>\n",
              "      <td>458285</td>\n",
              "      <td>128787</td>\n",
              "      <td>42</td>\n",
              "      <td>2</td>\n",
              "      <td>19</td>\n",
              "      <td>3.0</td>\n",
              "      <td>115</td>\n",
              "      <td>1</td>\n",
              "      <td>1</td>\n",
              "      <td>7</td>\n",
              "      <td>beverages</td>\n",
              "      <td>water seltzer sparkling water</td>\n",
              "    </tr>\n",
              "    <tr>\n",
              "      <th>2019498</th>\n",
              "      <td>458285</td>\n",
              "      <td>128787</td>\n",
              "      <td>42</td>\n",
              "      <td>2</td>\n",
              "      <td>19</td>\n",
              "      <td>3.0</td>\n",
              "      <td>32</td>\n",
              "      <td>2</td>\n",
              "      <td>1</td>\n",
              "      <td>4</td>\n",
              "      <td>produce</td>\n",
              "      <td>packaged produce</td>\n",
              "    </tr>\n",
              "    <tr>\n",
              "      <th>2019499</th>\n",
              "      <td>458285</td>\n",
              "      <td>128787</td>\n",
              "      <td>42</td>\n",
              "      <td>2</td>\n",
              "      <td>19</td>\n",
              "      <td>3.0</td>\n",
              "      <td>32</td>\n",
              "      <td>3</td>\n",
              "      <td>1</td>\n",
              "      <td>4</td>\n",
              "      <td>produce</td>\n",
              "      <td>packaged produce</td>\n",
              "    </tr>\n",
              "    <tr>\n",
              "      <th>2019500</th>\n",
              "      <td>458285</td>\n",
              "      <td>128787</td>\n",
              "      <td>42</td>\n",
              "      <td>2</td>\n",
              "      <td>19</td>\n",
              "      <td>3.0</td>\n",
              "      <td>123</td>\n",
              "      <td>4</td>\n",
              "      <td>1</td>\n",
              "      <td>4</td>\n",
              "      <td>produce</td>\n",
              "      <td>packaged vegetables fruits</td>\n",
              "    </tr>\n",
              "  </tbody>\n",
              "</table>\n",
              "<p>2019501 rows × 12 columns</p>\n",
              "</div>\n",
              "      <button class=\"colab-df-convert\" onclick=\"convertToInteractive('df-e0ea95fc-9cab-4365-be7b-792aaba63aa5')\"\n",
              "              title=\"Convert this dataframe to an interactive table.\"\n",
              "              style=\"display:none;\">\n",
              "        \n",
              "  <svg xmlns=\"http://www.w3.org/2000/svg\" height=\"24px\"viewBox=\"0 0 24 24\"\n",
              "       width=\"24px\">\n",
              "    <path d=\"M0 0h24v24H0V0z\" fill=\"none\"/>\n",
              "    <path d=\"M18.56 5.44l.94 2.06.94-2.06 2.06-.94-2.06-.94-.94-2.06-.94 2.06-2.06.94zm-11 1L8.5 8.5l.94-2.06 2.06-.94-2.06-.94L8.5 2.5l-.94 2.06-2.06.94zm10 10l.94 2.06.94-2.06 2.06-.94-2.06-.94-.94-2.06-.94 2.06-2.06.94z\"/><path d=\"M17.41 7.96l-1.37-1.37c-.4-.4-.92-.59-1.43-.59-.52 0-1.04.2-1.43.59L10.3 9.45l-7.72 7.72c-.78.78-.78 2.05 0 2.83L4 21.41c.39.39.9.59 1.41.59.51 0 1.02-.2 1.41-.59l7.78-7.78 2.81-2.81c.8-.78.8-2.07 0-2.86zM5.41 20L4 18.59l7.72-7.72 1.47 1.35L5.41 20z\"/>\n",
              "  </svg>\n",
              "      </button>\n",
              "      \n",
              "  <style>\n",
              "    .colab-df-container {\n",
              "      display:flex;\n",
              "      flex-wrap:wrap;\n",
              "      gap: 12px;\n",
              "    }\n",
              "\n",
              "    .colab-df-convert {\n",
              "      background-color: #E8F0FE;\n",
              "      border: none;\n",
              "      border-radius: 50%;\n",
              "      cursor: pointer;\n",
              "      display: none;\n",
              "      fill: #1967D2;\n",
              "      height: 32px;\n",
              "      padding: 0 0 0 0;\n",
              "      width: 32px;\n",
              "    }\n",
              "\n",
              "    .colab-df-convert:hover {\n",
              "      background-color: #E2EBFA;\n",
              "      box-shadow: 0px 1px 2px rgba(60, 64, 67, 0.3), 0px 1px 3px 1px rgba(60, 64, 67, 0.15);\n",
              "      fill: #174EA6;\n",
              "    }\n",
              "\n",
              "    [theme=dark] .colab-df-convert {\n",
              "      background-color: #3B4455;\n",
              "      fill: #D2E3FC;\n",
              "    }\n",
              "\n",
              "    [theme=dark] .colab-df-convert:hover {\n",
              "      background-color: #434B5C;\n",
              "      box-shadow: 0px 1px 3px 1px rgba(0, 0, 0, 0.15);\n",
              "      filter: drop-shadow(0px 1px 2px rgba(0, 0, 0, 0.3));\n",
              "      fill: #FFFFFF;\n",
              "    }\n",
              "  </style>\n",
              "\n",
              "      <script>\n",
              "        const buttonEl =\n",
              "          document.querySelector('#df-e0ea95fc-9cab-4365-be7b-792aaba63aa5 button.colab-df-convert');\n",
              "        buttonEl.style.display =\n",
              "          google.colab.kernel.accessAllowed ? 'block' : 'none';\n",
              "\n",
              "        async function convertToInteractive(key) {\n",
              "          const element = document.querySelector('#df-e0ea95fc-9cab-4365-be7b-792aaba63aa5');\n",
              "          const dataTable =\n",
              "            await google.colab.kernel.invokeFunction('convertToInteractive',\n",
              "                                                     [key], {});\n",
              "          if (!dataTable) return;\n",
              "\n",
              "          const docLinkHtml = 'Like what you see? Visit the ' +\n",
              "            '<a target=\"_blank\" href=https://colab.research.google.com/notebooks/data_table.ipynb>data table notebook</a>'\n",
              "            + ' to learn more about interactive tables.';\n",
              "          element.innerHTML = '';\n",
              "          dataTable['output_type'] = 'display_data';\n",
              "          await google.colab.output.renderOutput(dataTable, element);\n",
              "          const docLink = document.createElement('div');\n",
              "          docLink.innerHTML = docLinkHtml;\n",
              "          element.appendChild(docLink);\n",
              "        }\n",
              "      </script>\n",
              "    </div>\n",
              "  </div>\n",
              "  "
            ]
          },
          "metadata": {},
          "execution_count": 15
        }
      ]
    },
    {
      "cell_type": "code",
      "source": [
        "#order_id is just a serial number for every order dropping will help in better data understanding \n",
        "df.drop(\"order_id\",axis=1,inplace = True)"
      ],
      "metadata": {
        "id": "pSGWxVsQS6oE"
      },
      "execution_count": 16,
      "outputs": []
    },
    {
      "cell_type": "markdown",
      "source": [
        "## Dataset Description \n"
      ],
      "metadata": {
        "id": "qE5dqIHQS78U"
      }
    },
    {
      "cell_type": "code",
      "source": [
        "df.describe() #pandas `function` for dataframe description "
      ],
      "metadata": {
        "colab": {
          "base_uri": "https://localhost:8080/",
          "height": 364
        },
        "id": "6F25gM3wTBEs",
        "outputId": "a5e16dfd-ca7e-45c9-947a-ae0df94a769e"
      },
      "execution_count": 17,
      "outputs": [
        {
          "output_type": "execute_result",
          "data": {
            "text/plain": [
              "            user_id  order_number     order_dow  order_hour_of_day  \\\n",
              "count  2.019501e+06  2.019501e+06  2.019501e+06       2.019501e+06   \n",
              "mean   1.030673e+05  1.715138e+01  2.735367e+00       1.343948e+01   \n",
              "std    5.949117e+04  1.752576e+01  2.093882e+00       4.241008e+00   \n",
              "min    2.000000e+00  1.000000e+00  0.000000e+00       0.000000e+00   \n",
              "25%    5.158400e+04  5.000000e+00  1.000000e+00       1.000000e+01   \n",
              "50%    1.026900e+05  1.100000e+01  3.000000e+00       1.300000e+01   \n",
              "75%    1.546000e+05  2.400000e+01  5.000000e+00       1.600000e+01   \n",
              "max    2.062090e+05  1.000000e+02  6.000000e+00       2.300000e+01   \n",
              "\n",
              "       days_since_prior_order    product_id  add_to_cart_order     reordered  \\\n",
              "count            1.895159e+06  2.019501e+06       2.019501e+06  2.019501e+06   \n",
              "mean             1.138603e+01  7.120590e+01       8.363173e+00  5.897427e-01   \n",
              "std              8.970980e+00  3.820727e+01       7.150059e+00  4.918804e-01   \n",
              "min              0.000000e+00  1.000000e+00       1.000000e+00  0.000000e+00   \n",
              "25%              5.000000e+00  3.100000e+01       3.000000e+00  0.000000e+00   \n",
              "50%              8.000000e+00  8.300000e+01       6.000000e+00  1.000000e+00   \n",
              "75%              1.500000e+01  1.070000e+02       1.100000e+01  1.000000e+00   \n",
              "max              3.000000e+01  1.340000e+02       1.370000e+02  1.000000e+00   \n",
              "\n",
              "       department_id  \n",
              "count   2.019501e+06  \n",
              "mean    9.928349e+00  \n",
              "std     6.282933e+00  \n",
              "min     1.000000e+00  \n",
              "25%     4.000000e+00  \n",
              "50%     9.000000e+00  \n",
              "75%     1.600000e+01  \n",
              "max     2.100000e+01  "
            ],
            "text/html": [
              "\n",
              "  <div id=\"df-37e47860-d7c1-48ab-8082-70d5e0275232\">\n",
              "    <div class=\"colab-df-container\">\n",
              "      <div>\n",
              "<style scoped>\n",
              "    .dataframe tbody tr th:only-of-type {\n",
              "        vertical-align: middle;\n",
              "    }\n",
              "\n",
              "    .dataframe tbody tr th {\n",
              "        vertical-align: top;\n",
              "    }\n",
              "\n",
              "    .dataframe thead th {\n",
              "        text-align: right;\n",
              "    }\n",
              "</style>\n",
              "<table border=\"1\" class=\"dataframe\">\n",
              "  <thead>\n",
              "    <tr style=\"text-align: right;\">\n",
              "      <th></th>\n",
              "      <th>user_id</th>\n",
              "      <th>order_number</th>\n",
              "      <th>order_dow</th>\n",
              "      <th>order_hour_of_day</th>\n",
              "      <th>days_since_prior_order</th>\n",
              "      <th>product_id</th>\n",
              "      <th>add_to_cart_order</th>\n",
              "      <th>reordered</th>\n",
              "      <th>department_id</th>\n",
              "    </tr>\n",
              "  </thead>\n",
              "  <tbody>\n",
              "    <tr>\n",
              "      <th>count</th>\n",
              "      <td>2.019501e+06</td>\n",
              "      <td>2.019501e+06</td>\n",
              "      <td>2.019501e+06</td>\n",
              "      <td>2.019501e+06</td>\n",
              "      <td>1.895159e+06</td>\n",
              "      <td>2.019501e+06</td>\n",
              "      <td>2.019501e+06</td>\n",
              "      <td>2.019501e+06</td>\n",
              "      <td>2.019501e+06</td>\n",
              "    </tr>\n",
              "    <tr>\n",
              "      <th>mean</th>\n",
              "      <td>1.030673e+05</td>\n",
              "      <td>1.715138e+01</td>\n",
              "      <td>2.735367e+00</td>\n",
              "      <td>1.343948e+01</td>\n",
              "      <td>1.138603e+01</td>\n",
              "      <td>7.120590e+01</td>\n",
              "      <td>8.363173e+00</td>\n",
              "      <td>5.897427e-01</td>\n",
              "      <td>9.928349e+00</td>\n",
              "    </tr>\n",
              "    <tr>\n",
              "      <th>std</th>\n",
              "      <td>5.949117e+04</td>\n",
              "      <td>1.752576e+01</td>\n",
              "      <td>2.093882e+00</td>\n",
              "      <td>4.241008e+00</td>\n",
              "      <td>8.970980e+00</td>\n",
              "      <td>3.820727e+01</td>\n",
              "      <td>7.150059e+00</td>\n",
              "      <td>4.918804e-01</td>\n",
              "      <td>6.282933e+00</td>\n",
              "    </tr>\n",
              "    <tr>\n",
              "      <th>min</th>\n",
              "      <td>2.000000e+00</td>\n",
              "      <td>1.000000e+00</td>\n",
              "      <td>0.000000e+00</td>\n",
              "      <td>0.000000e+00</td>\n",
              "      <td>0.000000e+00</td>\n",
              "      <td>1.000000e+00</td>\n",
              "      <td>1.000000e+00</td>\n",
              "      <td>0.000000e+00</td>\n",
              "      <td>1.000000e+00</td>\n",
              "    </tr>\n",
              "    <tr>\n",
              "      <th>25%</th>\n",
              "      <td>5.158400e+04</td>\n",
              "      <td>5.000000e+00</td>\n",
              "      <td>1.000000e+00</td>\n",
              "      <td>1.000000e+01</td>\n",
              "      <td>5.000000e+00</td>\n",
              "      <td>3.100000e+01</td>\n",
              "      <td>3.000000e+00</td>\n",
              "      <td>0.000000e+00</td>\n",
              "      <td>4.000000e+00</td>\n",
              "    </tr>\n",
              "    <tr>\n",
              "      <th>50%</th>\n",
              "      <td>1.026900e+05</td>\n",
              "      <td>1.100000e+01</td>\n",
              "      <td>3.000000e+00</td>\n",
              "      <td>1.300000e+01</td>\n",
              "      <td>8.000000e+00</td>\n",
              "      <td>8.300000e+01</td>\n",
              "      <td>6.000000e+00</td>\n",
              "      <td>1.000000e+00</td>\n",
              "      <td>9.000000e+00</td>\n",
              "    </tr>\n",
              "    <tr>\n",
              "      <th>75%</th>\n",
              "      <td>1.546000e+05</td>\n",
              "      <td>2.400000e+01</td>\n",
              "      <td>5.000000e+00</td>\n",
              "      <td>1.600000e+01</td>\n",
              "      <td>1.500000e+01</td>\n",
              "      <td>1.070000e+02</td>\n",
              "      <td>1.100000e+01</td>\n",
              "      <td>1.000000e+00</td>\n",
              "      <td>1.600000e+01</td>\n",
              "    </tr>\n",
              "    <tr>\n",
              "      <th>max</th>\n",
              "      <td>2.062090e+05</td>\n",
              "      <td>1.000000e+02</td>\n",
              "      <td>6.000000e+00</td>\n",
              "      <td>2.300000e+01</td>\n",
              "      <td>3.000000e+01</td>\n",
              "      <td>1.340000e+02</td>\n",
              "      <td>1.370000e+02</td>\n",
              "      <td>1.000000e+00</td>\n",
              "      <td>2.100000e+01</td>\n",
              "    </tr>\n",
              "  </tbody>\n",
              "</table>\n",
              "</div>\n",
              "      <button class=\"colab-df-convert\" onclick=\"convertToInteractive('df-37e47860-d7c1-48ab-8082-70d5e0275232')\"\n",
              "              title=\"Convert this dataframe to an interactive table.\"\n",
              "              style=\"display:none;\">\n",
              "        \n",
              "  <svg xmlns=\"http://www.w3.org/2000/svg\" height=\"24px\"viewBox=\"0 0 24 24\"\n",
              "       width=\"24px\">\n",
              "    <path d=\"M0 0h24v24H0V0z\" fill=\"none\"/>\n",
              "    <path d=\"M18.56 5.44l.94 2.06.94-2.06 2.06-.94-2.06-.94-.94-2.06-.94 2.06-2.06.94zm-11 1L8.5 8.5l.94-2.06 2.06-.94-2.06-.94L8.5 2.5l-.94 2.06-2.06.94zm10 10l.94 2.06.94-2.06 2.06-.94-2.06-.94-.94-2.06-.94 2.06-2.06.94z\"/><path d=\"M17.41 7.96l-1.37-1.37c-.4-.4-.92-.59-1.43-.59-.52 0-1.04.2-1.43.59L10.3 9.45l-7.72 7.72c-.78.78-.78 2.05 0 2.83L4 21.41c.39.39.9.59 1.41.59.51 0 1.02-.2 1.41-.59l7.78-7.78 2.81-2.81c.8-.78.8-2.07 0-2.86zM5.41 20L4 18.59l7.72-7.72 1.47 1.35L5.41 20z\"/>\n",
              "  </svg>\n",
              "      </button>\n",
              "      \n",
              "  <style>\n",
              "    .colab-df-container {\n",
              "      display:flex;\n",
              "      flex-wrap:wrap;\n",
              "      gap: 12px;\n",
              "    }\n",
              "\n",
              "    .colab-df-convert {\n",
              "      background-color: #E8F0FE;\n",
              "      border: none;\n",
              "      border-radius: 50%;\n",
              "      cursor: pointer;\n",
              "      display: none;\n",
              "      fill: #1967D2;\n",
              "      height: 32px;\n",
              "      padding: 0 0 0 0;\n",
              "      width: 32px;\n",
              "    }\n",
              "\n",
              "    .colab-df-convert:hover {\n",
              "      background-color: #E2EBFA;\n",
              "      box-shadow: 0px 1px 2px rgba(60, 64, 67, 0.3), 0px 1px 3px 1px rgba(60, 64, 67, 0.15);\n",
              "      fill: #174EA6;\n",
              "    }\n",
              "\n",
              "    [theme=dark] .colab-df-convert {\n",
              "      background-color: #3B4455;\n",
              "      fill: #D2E3FC;\n",
              "    }\n",
              "\n",
              "    [theme=dark] .colab-df-convert:hover {\n",
              "      background-color: #434B5C;\n",
              "      box-shadow: 0px 1px 3px 1px rgba(0, 0, 0, 0.15);\n",
              "      filter: drop-shadow(0px 1px 2px rgba(0, 0, 0, 0.3));\n",
              "      fill: #FFFFFF;\n",
              "    }\n",
              "  </style>\n",
              "\n",
              "      <script>\n",
              "        const buttonEl =\n",
              "          document.querySelector('#df-37e47860-d7c1-48ab-8082-70d5e0275232 button.colab-df-convert');\n",
              "        buttonEl.style.display =\n",
              "          google.colab.kernel.accessAllowed ? 'block' : 'none';\n",
              "\n",
              "        async function convertToInteractive(key) {\n",
              "          const element = document.querySelector('#df-37e47860-d7c1-48ab-8082-70d5e0275232');\n",
              "          const dataTable =\n",
              "            await google.colab.kernel.invokeFunction('convertToInteractive',\n",
              "                                                     [key], {});\n",
              "          if (!dataTable) return;\n",
              "\n",
              "          const docLinkHtml = 'Like what you see? Visit the ' +\n",
              "            '<a target=\"_blank\" href=https://colab.research.google.com/notebooks/data_table.ipynb>data table notebook</a>'\n",
              "            + ' to learn more about interactive tables.';\n",
              "          element.innerHTML = '';\n",
              "          dataTable['output_type'] = 'display_data';\n",
              "          await google.colab.output.renderOutput(dataTable, element);\n",
              "          const docLink = document.createElement('div');\n",
              "          docLink.innerHTML = docLinkHtml;\n",
              "          element.appendChild(docLink);\n",
              "        }\n",
              "      </script>\n",
              "    </div>\n",
              "  </div>\n",
              "  "
            ]
          },
          "metadata": {},
          "execution_count": 17
        }
      ]
    },
    {
      "cell_type": "code",
      "source": [
        "df.info()"
      ],
      "metadata": {
        "colab": {
          "base_uri": "https://localhost:8080/"
        },
        "id": "w96jxGR-TD7Z",
        "outputId": "ed73518c-7515-49c9-dff0-9be0a992b92e"
      },
      "execution_count": 18,
      "outputs": [
        {
          "output_type": "stream",
          "name": "stdout",
          "text": [
            "<class 'pandas.core.frame.DataFrame'>\n",
            "RangeIndex: 2019501 entries, 0 to 2019500\n",
            "Data columns (total 11 columns):\n",
            " #   Column                  Dtype  \n",
            "---  ------                  -----  \n",
            " 0   user_id                 int64  \n",
            " 1   order_number            int64  \n",
            " 2   order_dow               int64  \n",
            " 3   order_hour_of_day       int64  \n",
            " 4   days_since_prior_order  float64\n",
            " 5   product_id              int64  \n",
            " 6   add_to_cart_order       int64  \n",
            " 7   reordered               int64  \n",
            " 8   department_id           int64  \n",
            " 9   department              object \n",
            " 10  product_name            object \n",
            "dtypes: float64(1), int64(8), object(2)\n",
            "memory usage: 169.5+ MB\n"
          ]
        }
      ]
    },
    {
      "cell_type": "markdown",
      "source": [
        "*Eight columns are Numerical*\n",
        "\n",
        "*last two columns are categorical*"
      ],
      "metadata": {
        "id": "LfTL_zYxUX9R"
      }
    },
    {
      "cell_type": "markdown",
      "source": [
        "####Handling NUll values in the dataset"
      ],
      "metadata": {
        "id": "4cxaANLcWADJ"
      }
    },
    {
      "cell_type": "code",
      "source": [
        "df.isnull().sum()"
      ],
      "metadata": {
        "colab": {
          "base_uri": "https://localhost:8080/"
        },
        "id": "-moHr4d8UPIi",
        "outputId": "e1107fa7-a890-4919-d512-868601c9f302"
      },
      "execution_count": 19,
      "outputs": [
        {
          "output_type": "execute_result",
          "data": {
            "text/plain": [
              "user_id                        0\n",
              "order_number                   0\n",
              "order_dow                      0\n",
              "order_hour_of_day              0\n",
              "days_since_prior_order    124342\n",
              "product_id                     0\n",
              "add_to_cart_order              0\n",
              "reordered                      0\n",
              "department_id                  0\n",
              "department                     0\n",
              "product_name                   0\n",
              "dtype: int64"
            ]
          },
          "metadata": {},
          "execution_count": 19
        }
      ]
    },
    {
      "cell_type": "code",
      "source": [
        "df[\"days_since_prior_order\"].unique()"
      ],
      "metadata": {
        "colab": {
          "base_uri": "https://localhost:8080/"
        },
        "id": "p0K4_xckWlIz",
        "outputId": "5eacf386-1605-4e41-b8da-035c7c6cf66f"
      },
      "execution_count": 20,
      "outputs": [
        {
          "output_type": "execute_result",
          "data": {
            "text/plain": [
              "array([nan,  3.,  6.,  7., 30., 20.,  4.,  8., 15., 10., 28.,  9., 12.,\n",
              "       11.,  2., 25., 13., 29., 14., 21.,  5.,  1., 18.,  0., 19., 17.,\n",
              "       22., 26., 24., 16., 23., 27.])"
            ]
          },
          "metadata": {},
          "execution_count": 20
        }
      ]
    },
    {
      "cell_type": "markdown",
      "source": [
        "``` since **days_since_prior_order** column has  124342 rows of null values and we cant afford to loose that many rows ,Also it looks an important character to analyze After how many many a customer reordered```\n",
        "> Filling Missing value\n",
        "\n",
        "```As 0 is also a unique value of the the dataset column so we can't fill  NULL value with zero.Try with Imputation for completing missing values using k-Nearest Neighbors.\n",
        "Each sample’s missing values are imputed using the mean value from n_neighbors nearest neighbors found in the training set. Two samples are close if the features that neither is missing are close.```\n"
      ],
      "metadata": {
        "id": "GpBkRSQIXK-Y"
      }
    },
    {
      "cell_type": "code",
      "source": [
        "imp =IterativeImputer(random_state=0)"
      ],
      "metadata": {
        "id": "zJexUsbLaayw"
      },
      "execution_count": 45,
      "outputs": []
    },
    {
      "cell_type": "code",
      "source": [
        "df_handled_missing_value = imp.fit_transform(df.loc[:,\"user_id\":\"department_id\"])#return ndarray data columns \n",
        "df_without_categorical_value = pd.DataFrame(df_handled_missing_value)#tranform them to dataframe "
      ],
      "metadata": {
        "id": "mgmRiN8QAsQe"
      },
      "execution_count": 46,
      "outputs": []
    },
    {
      "cell_type": "code",
      "source": [
        "df_imputed = pd.concat([df_without_categorical_value,df[[\"department\",\"product_name\"]]],axis=1)#concat along axis 1\n",
        "df_imputed.columns= df.columns#set columns"
      ],
      "metadata": {
        "id": "_-uySfbPBcS9"
      },
      "execution_count": 47,
      "outputs": []
    },
    {
      "cell_type": "code",
      "source": [
        "df_imputed"
      ],
      "metadata": {
        "colab": {
          "base_uri": "https://localhost:8080/",
          "height": 678
        },
        "id": "8UZKQnsjBfl3",
        "outputId": "40e28104-b1ca-45c1-85b7-dff616699087"
      },
      "execution_count": 48,
      "outputs": [
        {
          "output_type": "execute_result",
          "data": {
            "text/plain": [
              "          user_id  order_number  order_dow  order_hour_of_day  \\\n",
              "0         49125.0           1.0        2.0               18.0   \n",
              "1         49125.0           1.0        2.0               18.0   \n",
              "2         49125.0           1.0        2.0               18.0   \n",
              "3         49125.0           1.0        2.0               18.0   \n",
              "4         49125.0           1.0        2.0               18.0   \n",
              "...           ...           ...        ...                ...   \n",
              "2019496  199430.0          16.0        3.0               18.0   \n",
              "2019497  128787.0          42.0        2.0               19.0   \n",
              "2019498  128787.0          42.0        2.0               19.0   \n",
              "2019499  128787.0          42.0        2.0               19.0   \n",
              "2019500  128787.0          42.0        2.0               19.0   \n",
              "\n",
              "         days_since_prior_order  product_id  add_to_cart_order  reordered  \\\n",
              "0                     14.500439        17.0                1.0        0.0   \n",
              "1                     14.650857        91.0                2.0        0.0   \n",
              "2                     14.626121        36.0                3.0        0.0   \n",
              "3                     14.787803        83.0                4.0        0.0   \n",
              "4                     14.842010        83.0                5.0        0.0   \n",
              "...                         ...         ...                ...        ...   \n",
              "2019496                5.000000        83.0                8.0        0.0   \n",
              "2019497                3.000000       115.0                1.0        1.0   \n",
              "2019498                3.000000        32.0                2.0        1.0   \n",
              "2019499                3.000000        32.0                3.0        1.0   \n",
              "2019500                3.000000       123.0                4.0        1.0   \n",
              "\n",
              "         department_id  department                   product_name  \n",
              "0                 13.0      pantry             baking ingredients  \n",
              "1                 16.0  dairy eggs                soy lactosefree  \n",
              "2                 16.0  dairy eggs                         butter  \n",
              "3                  4.0     produce               fresh vegetables  \n",
              "4                  4.0     produce               fresh vegetables  \n",
              "...                ...         ...                            ...  \n",
              "2019496            4.0     produce               fresh vegetables  \n",
              "2019497            7.0   beverages  water seltzer sparkling water  \n",
              "2019498            4.0     produce               packaged produce  \n",
              "2019499            4.0     produce               packaged produce  \n",
              "2019500            4.0     produce     packaged vegetables fruits  \n",
              "\n",
              "[2019501 rows x 11 columns]"
            ],
            "text/html": [
              "\n",
              "  <div id=\"df-fff76edb-ebb9-41e0-bb9c-892e5e9a389d\">\n",
              "    <div class=\"colab-df-container\">\n",
              "      <div>\n",
              "<style scoped>\n",
              "    .dataframe tbody tr th:only-of-type {\n",
              "        vertical-align: middle;\n",
              "    }\n",
              "\n",
              "    .dataframe tbody tr th {\n",
              "        vertical-align: top;\n",
              "    }\n",
              "\n",
              "    .dataframe thead th {\n",
              "        text-align: right;\n",
              "    }\n",
              "</style>\n",
              "<table border=\"1\" class=\"dataframe\">\n",
              "  <thead>\n",
              "    <tr style=\"text-align: right;\">\n",
              "      <th></th>\n",
              "      <th>user_id</th>\n",
              "      <th>order_number</th>\n",
              "      <th>order_dow</th>\n",
              "      <th>order_hour_of_day</th>\n",
              "      <th>days_since_prior_order</th>\n",
              "      <th>product_id</th>\n",
              "      <th>add_to_cart_order</th>\n",
              "      <th>reordered</th>\n",
              "      <th>department_id</th>\n",
              "      <th>department</th>\n",
              "      <th>product_name</th>\n",
              "    </tr>\n",
              "  </thead>\n",
              "  <tbody>\n",
              "    <tr>\n",
              "      <th>0</th>\n",
              "      <td>49125.0</td>\n",
              "      <td>1.0</td>\n",
              "      <td>2.0</td>\n",
              "      <td>18.0</td>\n",
              "      <td>14.500439</td>\n",
              "      <td>17.0</td>\n",
              "      <td>1.0</td>\n",
              "      <td>0.0</td>\n",
              "      <td>13.0</td>\n",
              "      <td>pantry</td>\n",
              "      <td>baking ingredients</td>\n",
              "    </tr>\n",
              "    <tr>\n",
              "      <th>1</th>\n",
              "      <td>49125.0</td>\n",
              "      <td>1.0</td>\n",
              "      <td>2.0</td>\n",
              "      <td>18.0</td>\n",
              "      <td>14.650857</td>\n",
              "      <td>91.0</td>\n",
              "      <td>2.0</td>\n",
              "      <td>0.0</td>\n",
              "      <td>16.0</td>\n",
              "      <td>dairy eggs</td>\n",
              "      <td>soy lactosefree</td>\n",
              "    </tr>\n",
              "    <tr>\n",
              "      <th>2</th>\n",
              "      <td>49125.0</td>\n",
              "      <td>1.0</td>\n",
              "      <td>2.0</td>\n",
              "      <td>18.0</td>\n",
              "      <td>14.626121</td>\n",
              "      <td>36.0</td>\n",
              "      <td>3.0</td>\n",
              "      <td>0.0</td>\n",
              "      <td>16.0</td>\n",
              "      <td>dairy eggs</td>\n",
              "      <td>butter</td>\n",
              "    </tr>\n",
              "    <tr>\n",
              "      <th>3</th>\n",
              "      <td>49125.0</td>\n",
              "      <td>1.0</td>\n",
              "      <td>2.0</td>\n",
              "      <td>18.0</td>\n",
              "      <td>14.787803</td>\n",
              "      <td>83.0</td>\n",
              "      <td>4.0</td>\n",
              "      <td>0.0</td>\n",
              "      <td>4.0</td>\n",
              "      <td>produce</td>\n",
              "      <td>fresh vegetables</td>\n",
              "    </tr>\n",
              "    <tr>\n",
              "      <th>4</th>\n",
              "      <td>49125.0</td>\n",
              "      <td>1.0</td>\n",
              "      <td>2.0</td>\n",
              "      <td>18.0</td>\n",
              "      <td>14.842010</td>\n",
              "      <td>83.0</td>\n",
              "      <td>5.0</td>\n",
              "      <td>0.0</td>\n",
              "      <td>4.0</td>\n",
              "      <td>produce</td>\n",
              "      <td>fresh vegetables</td>\n",
              "    </tr>\n",
              "    <tr>\n",
              "      <th>...</th>\n",
              "      <td>...</td>\n",
              "      <td>...</td>\n",
              "      <td>...</td>\n",
              "      <td>...</td>\n",
              "      <td>...</td>\n",
              "      <td>...</td>\n",
              "      <td>...</td>\n",
              "      <td>...</td>\n",
              "      <td>...</td>\n",
              "      <td>...</td>\n",
              "      <td>...</td>\n",
              "    </tr>\n",
              "    <tr>\n",
              "      <th>2019496</th>\n",
              "      <td>199430.0</td>\n",
              "      <td>16.0</td>\n",
              "      <td>3.0</td>\n",
              "      <td>18.0</td>\n",
              "      <td>5.000000</td>\n",
              "      <td>83.0</td>\n",
              "      <td>8.0</td>\n",
              "      <td>0.0</td>\n",
              "      <td>4.0</td>\n",
              "      <td>produce</td>\n",
              "      <td>fresh vegetables</td>\n",
              "    </tr>\n",
              "    <tr>\n",
              "      <th>2019497</th>\n",
              "      <td>128787.0</td>\n",
              "      <td>42.0</td>\n",
              "      <td>2.0</td>\n",
              "      <td>19.0</td>\n",
              "      <td>3.000000</td>\n",
              "      <td>115.0</td>\n",
              "      <td>1.0</td>\n",
              "      <td>1.0</td>\n",
              "      <td>7.0</td>\n",
              "      <td>beverages</td>\n",
              "      <td>water seltzer sparkling water</td>\n",
              "    </tr>\n",
              "    <tr>\n",
              "      <th>2019498</th>\n",
              "      <td>128787.0</td>\n",
              "      <td>42.0</td>\n",
              "      <td>2.0</td>\n",
              "      <td>19.0</td>\n",
              "      <td>3.000000</td>\n",
              "      <td>32.0</td>\n",
              "      <td>2.0</td>\n",
              "      <td>1.0</td>\n",
              "      <td>4.0</td>\n",
              "      <td>produce</td>\n",
              "      <td>packaged produce</td>\n",
              "    </tr>\n",
              "    <tr>\n",
              "      <th>2019499</th>\n",
              "      <td>128787.0</td>\n",
              "      <td>42.0</td>\n",
              "      <td>2.0</td>\n",
              "      <td>19.0</td>\n",
              "      <td>3.000000</td>\n",
              "      <td>32.0</td>\n",
              "      <td>3.0</td>\n",
              "      <td>1.0</td>\n",
              "      <td>4.0</td>\n",
              "      <td>produce</td>\n",
              "      <td>packaged produce</td>\n",
              "    </tr>\n",
              "    <tr>\n",
              "      <th>2019500</th>\n",
              "      <td>128787.0</td>\n",
              "      <td>42.0</td>\n",
              "      <td>2.0</td>\n",
              "      <td>19.0</td>\n",
              "      <td>3.000000</td>\n",
              "      <td>123.0</td>\n",
              "      <td>4.0</td>\n",
              "      <td>1.0</td>\n",
              "      <td>4.0</td>\n",
              "      <td>produce</td>\n",
              "      <td>packaged vegetables fruits</td>\n",
              "    </tr>\n",
              "  </tbody>\n",
              "</table>\n",
              "<p>2019501 rows × 11 columns</p>\n",
              "</div>\n",
              "      <button class=\"colab-df-convert\" onclick=\"convertToInteractive('df-fff76edb-ebb9-41e0-bb9c-892e5e9a389d')\"\n",
              "              title=\"Convert this dataframe to an interactive table.\"\n",
              "              style=\"display:none;\">\n",
              "        \n",
              "  <svg xmlns=\"http://www.w3.org/2000/svg\" height=\"24px\"viewBox=\"0 0 24 24\"\n",
              "       width=\"24px\">\n",
              "    <path d=\"M0 0h24v24H0V0z\" fill=\"none\"/>\n",
              "    <path d=\"M18.56 5.44l.94 2.06.94-2.06 2.06-.94-2.06-.94-.94-2.06-.94 2.06-2.06.94zm-11 1L8.5 8.5l.94-2.06 2.06-.94-2.06-.94L8.5 2.5l-.94 2.06-2.06.94zm10 10l.94 2.06.94-2.06 2.06-.94-2.06-.94-.94-2.06-.94 2.06-2.06.94z\"/><path d=\"M17.41 7.96l-1.37-1.37c-.4-.4-.92-.59-1.43-.59-.52 0-1.04.2-1.43.59L10.3 9.45l-7.72 7.72c-.78.78-.78 2.05 0 2.83L4 21.41c.39.39.9.59 1.41.59.51 0 1.02-.2 1.41-.59l7.78-7.78 2.81-2.81c.8-.78.8-2.07 0-2.86zM5.41 20L4 18.59l7.72-7.72 1.47 1.35L5.41 20z\"/>\n",
              "  </svg>\n",
              "      </button>\n",
              "      \n",
              "  <style>\n",
              "    .colab-df-container {\n",
              "      display:flex;\n",
              "      flex-wrap:wrap;\n",
              "      gap: 12px;\n",
              "    }\n",
              "\n",
              "    .colab-df-convert {\n",
              "      background-color: #E8F0FE;\n",
              "      border: none;\n",
              "      border-radius: 50%;\n",
              "      cursor: pointer;\n",
              "      display: none;\n",
              "      fill: #1967D2;\n",
              "      height: 32px;\n",
              "      padding: 0 0 0 0;\n",
              "      width: 32px;\n",
              "    }\n",
              "\n",
              "    .colab-df-convert:hover {\n",
              "      background-color: #E2EBFA;\n",
              "      box-shadow: 0px 1px 2px rgba(60, 64, 67, 0.3), 0px 1px 3px 1px rgba(60, 64, 67, 0.15);\n",
              "      fill: #174EA6;\n",
              "    }\n",
              "\n",
              "    [theme=dark] .colab-df-convert {\n",
              "      background-color: #3B4455;\n",
              "      fill: #D2E3FC;\n",
              "    }\n",
              "\n",
              "    [theme=dark] .colab-df-convert:hover {\n",
              "      background-color: #434B5C;\n",
              "      box-shadow: 0px 1px 3px 1px rgba(0, 0, 0, 0.15);\n",
              "      filter: drop-shadow(0px 1px 2px rgba(0, 0, 0, 0.3));\n",
              "      fill: #FFFFFF;\n",
              "    }\n",
              "  </style>\n",
              "\n",
              "      <script>\n",
              "        const buttonEl =\n",
              "          document.querySelector('#df-fff76edb-ebb9-41e0-bb9c-892e5e9a389d button.colab-df-convert');\n",
              "        buttonEl.style.display =\n",
              "          google.colab.kernel.accessAllowed ? 'block' : 'none';\n",
              "\n",
              "        async function convertToInteractive(key) {\n",
              "          const element = document.querySelector('#df-fff76edb-ebb9-41e0-bb9c-892e5e9a389d');\n",
              "          const dataTable =\n",
              "            await google.colab.kernel.invokeFunction('convertToInteractive',\n",
              "                                                     [key], {});\n",
              "          if (!dataTable) return;\n",
              "\n",
              "          const docLinkHtml = 'Like what you see? Visit the ' +\n",
              "            '<a target=\"_blank\" href=https://colab.research.google.com/notebooks/data_table.ipynb>data table notebook</a>'\n",
              "            + ' to learn more about interactive tables.';\n",
              "          element.innerHTML = '';\n",
              "          dataTable['output_type'] = 'display_data';\n",
              "          await google.colab.output.renderOutput(dataTable, element);\n",
              "          const docLink = document.createElement('div');\n",
              "          docLink.innerHTML = docLinkHtml;\n",
              "          element.appendChild(docLink);\n",
              "        }\n",
              "      </script>\n",
              "    </div>\n",
              "  </div>\n",
              "  "
            ]
          },
          "metadata": {},
          "execution_count": 48
        }
      ]
    },
    {
      "cell_type": "markdown",
      "source": [
        "### Data Visualization"
      ],
      "metadata": {
        "id": "nHMsSk2gFZ37"
      }
    },
    {
      "cell_type": "code",
      "source": [
        "%matplotlib inline\n",
        "df_imputed.hist(bins=50, figsize=(20,15))\n",
        "plt.show()"
      ],
      "metadata": {
        "colab": {
          "base_uri": "https://localhost:8080/",
          "height": 828
        },
        "id": "XJx2T--fFWdO",
        "outputId": "dc3a8f3d-aafb-4cea-a1ee-2a309e8ad1ba"
      },
      "execution_count": 55,
      "outputs": [
        {
          "output_type": "display_data",
          "data": {
            "text/plain": [
              "<Figure size 1440x1080 with 9 Axes>"
            ],
            "image/png": "[encoded data removed]"
          },
          "metadata": {
            "needs_background": "light"
          }
        }
      ]
    },
    {
      "cell_type": "markdown",
      "source": [
        "**Two columns `add_to_cart_order` and  `order_no` are left skewed data to make them normally distributed we have to apply logarithmic transformation on them**"
      ],
      "metadata": {
        "id": "GsuLZojoxt9z"
      }
    },
    {
      "cell_type": "code",
      "source": [],
      "metadata": {
        "id": "R8wx6wcmyXZ8"
      },
      "execution_count": null,
      "outputs": []
    }
  ]
}